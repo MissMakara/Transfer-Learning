{
  "nbformat": 4,
  "nbformat_minor": 0,
  "metadata": {
    "colab": {
      "name": "transform_learning.ipynb",
      "provenance": [],
      "include_colab_link": true
    },
    "kernelspec": {
      "display_name": "Python 3.8.5 64-bit ('base': conda)",
      "name": "python385jvsc74a57bd0f78cf16cc13ab0ffcadb5cfacf14c8f23aa9db3f27d7430160dc041c3551a185"
    },
    "language_info": {
      "codemirror_mode": {
        "name": "ipython",
        "version": 3
      },
      "file_extension": ".py",
      "mimetype": "text/x-python",
      "name": "python",
      "nbconvert_exporter": "python",
      "pygments_lexer": "ipython3",
      "version": "3.8.5"
    }
  },
  "cells": [
    {
      "cell_type": "markdown",
      "metadata": {
        "id": "view-in-github",
        "colab_type": "text"
      },
      "source": [
        "<a href=\"https://colab.research.google.com/github/MissMakara/Transform-Learning/blob/main/transform_learning.ipynb\" target=\"_parent\"><img src=\"https://colab.research.google.com/assets/colab-badge.svg\" alt=\"Open In Colab\"/></a>"
      ]
    },
    {
      "cell_type": "code",
      "metadata": {
        "id": "T285Rql6-3ZL"
      },
      "source": [
        "import pandas as pd \n",
        "from sklearn.neighbors import KNeighborsClassifier\n",
        "from sklearn.multiclass import OneVsRestClassifier\n",
        "from sklearn.model_selection import train_test_split\n",
        "import numpy as np \n",
        "from  matplotlib import pyplot as plt\n",
        "import matplotlib.image as mpimg\n",
        "%matplotlib inline\n",
        "from sklearn.metrics import accuracy_score\n",
        "from sklearn.preprocessing import StandardScaler\n",
        "from sklearn.decomposition import PCA\n",
        "import joblib\n",
        "import tensorflow as tf\n",
        "from tensorflow import keras\n",
        "from skimage.io import imread\n",
        "from skimage.transform import resize\n",
        "from sklearn import svm\n",
        "import imutils\n",
        "from imutils import paths\n",
        "\n",
        "import cv2\n",
        "import os"
      ],
      "execution_count": null,
      "outputs": []
    },
    {
      "cell_type": "code",
      "metadata": {
        "id": "7wsXCJ6LccAv"
      },
      "source": [
        "def image_dataset(eye_dataset):\n",
        "    \n",
        "    IMG_WIDTH=224\n",
        "    IMG_HEIGHT=224\n",
        "    img_data_array=[]\n",
        "    class_name=[]\n",
        "    nd_image_array=[]\n",
        "   \n",
        "    for folder in os.listdir(eye_dataset):\n",
        "        for file in os.listdir(os.path.join(eye_dataset,folder)):\n",
        "\n",
        "          image_path= os.path.join(eye_dataset,folder,file)\n",
        "          #image=mpimg.imread(image_path)\n",
        "          image= cv2.imread(image_path,cv2.IMREAD_COLOR)\n",
        "\n",
        "          #change image to np array and print shape\n",
        "          image = np.array(image)\n",
        "          \n",
        "          \n",
        "          #assign the dimensions\n",
        "          try:\n",
        "            ht =image.shape[0]\n",
        "            wd =image.shape[1]\n",
        "            cc =image.shape[2] \n",
        "            #print(image.shape)\n",
        "\n",
        "          # create new image of desired size and color (blue) for padding\n",
        "          #  ww = 300\n",
        "          #  hh = 300\n",
        "          #  color = (255,0,0)\n",
        "          #  result = np.full((hh,ww,cc), color, dtype=np.uint8)\n",
        "\n",
        "          #  xx = (ww - wd) // 2\n",
        "         #   yy = (hh - ht) // 2\n",
        "\n",
        "\n",
        "            # copy img image into center of result image\n",
        "           # image = result[yy:yy+ht, xx:xx+wd]\n",
        "          \n",
        "            top_pad = np.floor((ht - image.shape[0]) / 2).astype(np.uint16)\n",
        "            bottom_pad = np.ceil((ht - image.shape[0]) / 2).astype(np.uint16)\n",
        "            right_pad = np.ceil((wd - image.shape[1]) / 2).astype(np.uint16)\n",
        "            left_pad = np.floor((wd - image.shape[1]) / 2).astype(np.uint16)\n",
        "            image = np.copy(np.pad(image, ((top_pad, bottom_pad), (left_pad, right_pad), (0, 0)), mode='constant', constant_values=0))\n",
        "\n",
        "            ht =0\n",
        "            wd =0\n",
        "            cc =0\n",
        "\n",
        "            try:\n",
        "                image =cv2.resize(image,(IMG_HEIGHT, IMG_WIDTH))\n",
        "            except Exception as e:\n",
        "                print(str(e))\n",
        "\n",
        "            image=np.array(image)\n",
        "            flat_image= image.flatten()\n",
        "            image = image.astype('float32')\n",
        "            #image /= 255 \n",
        "            \n",
        "            \n",
        "            class_name.append(folder)\n",
        "            img_data_array.append(flat_image)\n",
        "            nd_image_array.append(image)\n",
        "            \n",
        "          except Exception as e:\n",
        "            print(str(e))\n",
        "            ax=plt.subplot(1,5,i+1)\n",
        "            ax.title.set_text(file)\n",
        "            plt.imshow(image)\n",
        "\n",
        "    #img_data_array = np.array(img_data_array)\n",
        "    #class_name = np.array(class_name)\n",
        "    return img_data_array, class_name, nd_image_array"
      ],
      "execution_count": null,
      "outputs": []
    },
    {
      "cell_type": "code",
      "metadata": {
        "id": "g-AWhedT3J4k"
      },
      "source": [
        ""
      ],
      "execution_count": null,
      "outputs": []
    },
    {
      "cell_type": "code",
      "metadata": {
        "colab": {
          "base_uri": "https://localhost:8080/"
        },
        "id": "5Mh2o-pP_PzY",
        "outputId": "dea1f6a0-8324-48ff-98d5-938ac8e85349"
      },
      "source": [
        "from google.colab import drive\n",
        "drive.mount('/content/drive')"
      ],
      "execution_count": null,
      "outputs": [
        {
          "output_type": "stream",
          "text": [
            "Mounted at /content/drive\n"
          ],
          "name": "stdout"
        }
      ]
    },
    {
      "cell_type": "code",
      "metadata": {
        "id": "KBWAsEXf-3ZQ"
      },
      "source": [
        "img_data_, class_names_, nd_array = image_dataset(r'/content/drive/MyDrive/Docsun Health/Eyes Dataset/Edited Dataset/')"
      ],
      "execution_count": null,
      "outputs": []
    },
    {
      "cell_type": "code",
      "metadata": {
        "id": "rfvOQvAj02mo"
      },
      "source": [
        "nd_array = np.array(nd_array)"
      ],
      "execution_count": null,
      "outputs": []
    },
    {
      "cell_type": "code",
      "metadata": {
        "id": "Bm9zQOXPrNNy"
      },
      "source": [
        "img_data = np.array(img_data_)\n",
        "class_names = np.array(class_names_)"
      ],
      "execution_count": null,
      "outputs": []
    },
    {
      "cell_type": "code",
      "metadata": {
        "colab": {
          "base_uri": "https://localhost:8080/"
        },
        "id": "ywU3q8vtM0aU",
        "outputId": "9826e7b3-eb34-45db-e2b6-54e5629f6165"
      },
      "source": [
        "nd_array.shape"
      ],
      "execution_count": null,
      "outputs": [
        {
          "output_type": "execute_result",
          "data": {
            "text/plain": [
              "(557, 224, 224, 3)"
            ]
          },
          "metadata": {
            "tags": []
          },
          "execution_count": 8
        }
      ]
    },
    {
      "cell_type": "code",
      "metadata": {
        "id": "eGJYb8rqtqO-"
      },
      "source": [
        "from sklearn import preprocessing\n",
        "le = preprocessing.LabelEncoder()\n",
        "target = le.fit_transform(class_names)"
      ],
      "execution_count": null,
      "outputs": []
    },
    {
      "cell_type": "code",
      "metadata": {
        "id": "CJ-hCHiF5qmG"
      },
      "source": [
        "from sklearn.preprocessing import StandardScaler\n",
        "scaler = StandardScaler()\n",
        "img_data_=scaler.fit_transform(img_data)"
      ],
      "execution_count": null,
      "outputs": []
    },
    {
      "cell_type": "code",
      "metadata": {
        "colab": {
          "base_uri": "https://localhost:8080/"
        },
        "id": "4hngDE4huZ0o",
        "outputId": "25577d18-cc0a-44bb-dd1c-86260fe7fedb"
      },
      "source": [
        "target.shape"
      ],
      "execution_count": null,
      "outputs": [
        {
          "output_type": "execute_result",
          "data": {
            "text/plain": [
              "(557,)"
            ]
          },
          "metadata": {
            "tags": []
          },
          "execution_count": 11
        }
      ]
    },
    {
      "cell_type": "code",
      "metadata": {
        "colab": {
          "base_uri": "https://localhost:8080/"
        },
        "id": "XH6cpu-c-3ZS",
        "outputId": "6e3819db-f3c9-4fe5-a828-1cea6a2b9144"
      },
      "source": [
        "img_data.shape"
      ],
      "execution_count": null,
      "outputs": [
        {
          "output_type": "execute_result",
          "data": {
            "text/plain": [
              "(557, 150528)"
            ]
          },
          "metadata": {
            "tags": []
          },
          "execution_count": 12
        }
      ]
    },
    {
      "cell_type": "code",
      "metadata": {
        "id": "GJnlWibf-3ZV"
      },
      "source": [
        "X = img_data_\n",
        "y = target\n"
      ],
      "execution_count": null,
      "outputs": []
    },
    {
      "cell_type": "code",
      "metadata": {
        "id": "zkv_E155YHw_"
      },
      "source": [
        "from sklearn.utils import shuffle\n",
        "X_shuffled,y_shuffled = shuffle(X, y, random_state=32)"
      ],
      "execution_count": null,
      "outputs": []
    },
    {
      "cell_type": "code",
      "metadata": {
        "id": "Tt9kMvyd-3ZV"
      },
      "source": [
        "X_train, X_test, y_train, y_test = train_test_split(X_shuffled, y_shuffled, test_size=0.30, random_state=30)"
      ],
      "execution_count": null,
      "outputs": []
    },
    {
      "cell_type": "code",
      "metadata": {
        "colab": {
          "base_uri": "https://localhost:8080/"
        },
        "id": "acb03PoGKxoa",
        "outputId": "39b97587-a379-4fc0-cc0c-3ba29ea07249"
      },
      "source": [
        "X_test.shape"
      ],
      "execution_count": null,
      "outputs": [
        {
          "output_type": "execute_result",
          "data": {
            "text/plain": [
              "(168, 150528)"
            ]
          },
          "metadata": {
            "tags": []
          },
          "execution_count": 16
        }
      ]
    },
    {
      "cell_type": "code",
      "metadata": {
        "id": "_W4gjcRt-3ZW"
      },
      "source": [
        "\n",
        "# define support vector classifier\n",
        "svm_model = svm.SVC(kernel='rbf', probability=True, random_state=42, gamma='auto', max_iter = 200)\n",
        "\n",
        "# fit model\n"
      ],
      "execution_count": null,
      "outputs": []
    },
    {
      "cell_type": "code",
      "metadata": {
        "colab": {
          "base_uri": "https://localhost:8080/"
        },
        "id": "Dl708vAK-3ZW",
        "outputId": "b62d2754-c31f-4a30-8984-3b0d41f23079"
      },
      "source": [
        "svm_model.fit(X_train, y_train)"
      ],
      "execution_count": null,
      "outputs": [
        {
          "output_type": "stream",
          "text": [
            "/usr/local/lib/python3.7/dist-packages/sklearn/svm/_base.py:231: ConvergenceWarning: Solver terminated early (max_iter=200).  Consider pre-processing your data with StandardScaler or MinMaxScaler.\n",
            "  % self.max_iter, ConvergenceWarning)\n"
          ],
          "name": "stderr"
        },
        {
          "output_type": "execute_result",
          "data": {
            "text/plain": [
              "SVC(C=1.0, break_ties=False, cache_size=200, class_weight=None, coef0=0.0,\n",
              "    decision_function_shape='ovr', degree=3, gamma='auto', kernel='rbf',\n",
              "    max_iter=200, probability=True, random_state=42, shrinking=True, tol=0.001,\n",
              "    verbose=False)"
            ]
          },
          "metadata": {
            "tags": []
          },
          "execution_count": 18
        }
      ]
    },
    {
      "cell_type": "code",
      "metadata": {
        "id": "foUdqTwdRVhs"
      },
      "source": [
        "svm_predicted_y = svm_model.predict(X_test)\n"
      ],
      "execution_count": null,
      "outputs": []
    },
    {
      "cell_type": "code",
      "metadata": {
        "colab": {
          "base_uri": "https://localhost:8080/"
        },
        "id": "x5ADmHGYSA7-",
        "outputId": "77b23be9-7cc9-46b8-87f4-3d9ce377dee3"
      },
      "source": [
        "svm_predicted_y"
      ],
      "execution_count": null,
      "outputs": [
        {
          "output_type": "execute_result",
          "data": {
            "text/plain": [
              "array([1, 2, 2, 0, 1, 0, 0, 1, 0, 1, 0, 1, 1, 2, 1, 0, 1, 1, 1, 1, 1, 0,\n",
              "       1, 1, 2, 2, 0, 1, 0, 0, 1, 1, 2, 1, 1, 0, 1, 2, 1, 1, 1, 0, 2, 1,\n",
              "       1, 1, 0, 2, 0, 0, 2, 0, 1, 0, 1, 1, 0, 2, 2, 0, 0, 1, 0, 0, 0, 0,\n",
              "       0, 0, 0, 0, 0, 0, 1, 0, 1, 0, 1, 1, 0, 0, 0, 1, 2, 2, 1, 2, 1, 0,\n",
              "       1, 0, 2, 1, 2, 1, 0, 0, 0, 0, 1, 1, 0, 2, 0, 0, 1, 1, 0, 0, 1, 2,\n",
              "       0, 1, 1, 1, 0, 0, 0, 2, 1, 0, 1, 2, 1, 1, 1, 1, 1, 0, 0, 0, 1, 1,\n",
              "       2, 1, 1, 0, 1, 2, 1, 1, 2, 0, 1, 1, 0, 0, 1, 0, 0, 0, 0, 0, 2, 0,\n",
              "       1, 0, 0, 1, 0, 1, 1, 2, 2, 0, 1, 1, 1, 1])"
            ]
          },
          "metadata": {
            "tags": []
          },
          "execution_count": 21
        }
      ]
    },
    {
      "cell_type": "code",
      "metadata": {
        "colab": {
          "base_uri": "https://localhost:8080/"
        },
        "id": "fxzQMbLwSfoB",
        "outputId": "04caf195-a4f4-4361-a731-63b72af32690"
      },
      "source": [
        "from sklearn import metrics\n",
        "meanAbsError = metrics.mean_absolute_error(np.array(y_test), svm_predicted_y)\n",
        "meanSqrdError = metrics.mean_squared_error(np.array(y_test), svm_predicted_y)\n",
        "rootMeanSqrdError = np.sqrt(meanSqrdError)\n",
        "\n",
        "print(\"Mean Absolute Error\", meanAbsError)\n",
        "print(\"Mean Squared Error\", meanSqrdError)\n",
        "print(\"Root Mean Squared error\", rootMeanSqrdError)\n"
      ],
      "execution_count": null,
      "outputs": [
        {
          "output_type": "stream",
          "text": [
            "Mean Absolute Error 0.26785714285714285\n",
            "Mean Squared Error 0.4107142857142857\n",
            "Root Mean Squared error 0.6408699444616557\n"
          ],
          "name": "stdout"
        }
      ]
    },
    {
      "cell_type": "code",
      "metadata": {
        "colab": {
          "base_uri": "https://localhost:8080/"
        },
        "id": "JW9bQ_t1ZPG7",
        "outputId": "52aa1e2f-c656-4ead-9cd4-df6f47103676"
      },
      "source": [
        "print(\" SVM Classification Report: \\n{}\\n\".format(metrics.classification_report(y_test, svm_predicted_y, target_names=['0','1','2'], zero_division = 1)))"
      ],
      "execution_count": null,
      "outputs": [
        {
          "output_type": "stream",
          "text": [
            " SVM Classification Report: \n",
            "              precision    recall  f1-score   support\n",
            "\n",
            "           0       0.75      0.91      0.82        56\n",
            "           1       0.84      0.87      0.85        70\n",
            "           2       0.85      0.55      0.67        42\n",
            "\n",
            "    accuracy                           0.80       168\n",
            "   macro avg       0.81      0.78      0.78       168\n",
            "weighted avg       0.81      0.80      0.80       168\n",
            "\n",
            "\n"
          ],
          "name": "stdout"
        }
      ]
    },
    {
      "cell_type": "code",
      "metadata": {
        "colab": {
          "base_uri": "https://localhost:8080/"
        },
        "id": "AAZN_fi-6ZdP",
        "outputId": "34cff8be-60f8-48cb-a883-ede8dfbd81cc"
      },
      "source": [
        "print(\" SVM Classification Report: \\n{}\\n\".format(metrics.classification_report(y_test, svm_predicted_y, target_names=['0','1','2'], zero_division = 1)))"
      ],
      "execution_count": null,
      "outputs": [
        {
          "output_type": "stream",
          "text": [
            " SVM Classification Report: \n",
            "              precision    recall  f1-score   support\n",
            "\n",
            "           0       1.00      0.00      0.00        56\n",
            "           1       0.42      1.00      0.59        70\n",
            "           2       1.00      0.00      0.00        42\n",
            "\n",
            "    accuracy                           0.42       168\n",
            "   macro avg       0.81      0.33      0.20       168\n",
            "weighted avg       0.76      0.42      0.25       168\n",
            "\n",
            "\n"
          ],
          "name": "stdout"
        }
      ]
    },
    {
      "cell_type": "code",
      "metadata": {
        "colab": {
          "base_uri": "https://localhost:8080/"
        },
        "id": "CWhsKfrleS1K",
        "outputId": "cfee498f-741e-43b8-9c1e-af332010e2b3"
      },
      "source": [
        "from sklearn.metrics import accuracy_score\n",
        "print(\"Accuracy on SVM Model: \",accuracy_score(y_test,svm_predicted_y))"
      ],
      "execution_count": null,
      "outputs": [
        {
          "output_type": "stream",
          "text": [
            "Accuracy on SVM Model:  0.8035714285714286\n"
          ],
          "name": "stdout"
        }
      ]
    },
    {
      "cell_type": "code",
      "metadata": {
        "id": "-bO5DFqe-3ZX"
      },
      "source": [
        "#knn = OneVsRestClassifier(KNeighborsClassifier())\n",
        "knn = KNeighborsClassifier(n_neighbors=10)"
      ],
      "execution_count": null,
      "outputs": []
    },
    {
      "cell_type": "code",
      "metadata": {
        "colab": {
          "base_uri": "https://localhost:8080/"
        },
        "id": "kILE0ahM-3ZX",
        "outputId": "79e87b72-a66b-4205-bf2a-449bc0cdfd04"
      },
      "source": [
        "knn.fit(X_train,y_train)"
      ],
      "execution_count": null,
      "outputs": [
        {
          "output_type": "execute_result",
          "data": {
            "text/plain": [
              "KNeighborsClassifier(algorithm='auto', leaf_size=30, metric='minkowski',\n",
              "                     metric_params=None, n_jobs=None, n_neighbors=10, p=2,\n",
              "                     weights='uniform')"
            ]
          },
          "metadata": {
            "tags": []
          },
          "execution_count": 26
        }
      ]
    },
    {
      "cell_type": "code",
      "metadata": {
        "id": "iS_V1kcJaNGc"
      },
      "source": [
        "knn_predicted = knn.predict(X_test)"
      ],
      "execution_count": null,
      "outputs": []
    },
    {
      "cell_type": "code",
      "metadata": {
        "colab": {
          "base_uri": "https://localhost:8080/"
        },
        "id": "u5TXkGgfahvJ",
        "outputId": "f08b6acf-26ee-46c7-df5d-0394fc894354"
      },
      "source": [
        "knn_predicted"
      ],
      "execution_count": null,
      "outputs": [
        {
          "output_type": "execute_result",
          "data": {
            "text/plain": [
              "array([1, 2, 0, 0, 1, 0, 0, 2, 1, 1, 1, 1, 1, 2, 0, 0, 1, 1, 1, 1, 1, 0,\n",
              "       0, 1, 0, 2, 0, 1, 0, 0, 1, 1, 2, 1, 1, 1, 1, 2, 1, 1, 1, 0, 2, 1,\n",
              "       1, 1, 0, 0, 1, 1, 2, 0, 1, 0, 1, 1, 0, 2, 2, 0, 0, 1, 0, 0, 0, 0,\n",
              "       0, 0, 1, 0, 0, 0, 1, 0, 1, 0, 1, 1, 0, 0, 0, 1, 2, 2, 1, 2, 1, 0,\n",
              "       1, 0, 2, 1, 2, 1, 0, 0, 0, 1, 1, 1, 1, 2, 0, 0, 1, 1, 0, 0, 1, 0,\n",
              "       0, 1, 1, 1, 1, 0, 0, 2, 1, 0, 1, 2, 0, 1, 1, 1, 1, 0, 0, 0, 1, 1,\n",
              "       2, 1, 1, 0, 1, 2, 1, 1, 2, 0, 1, 2, 0, 0, 2, 0, 0, 0, 1, 0, 2, 0,\n",
              "       1, 0, 0, 1, 0, 0, 1, 2, 2, 0, 1, 1, 1, 1])"
            ]
          },
          "metadata": {
            "tags": []
          },
          "execution_count": 28
        }
      ]
    },
    {
      "cell_type": "code",
      "metadata": {
        "colab": {
          "base_uri": "https://localhost:8080/"
        },
        "id": "XBjF6FHE-3ZX",
        "outputId": "940f9ecb-a403-4072-f655-2d00378e2fdd"
      },
      "source": [
        "meanAbsError = metrics.mean_absolute_error(np.array(y_test), knn_predicted)\n",
        "meanSqrdError = metrics.mean_squared_error(np.array(y_test), knn_predicted)\n",
        "rootMeanSqrdError = np.sqrt(meanSqrdError)\n",
        "print(\"KNN Metrics\")\n",
        "print(\"Mean Absolute Error\", meanAbsError)\n",
        "print(\"Mean Squared Error\", meanSqrdError)\n",
        "print(\"Root Mean Squared error\", rootMeanSqrdError)"
      ],
      "execution_count": null,
      "outputs": [
        {
          "output_type": "stream",
          "text": [
            "KNN Metrics\n",
            "Mean Absolute Error 0.34523809523809523\n",
            "Mean Squared Error 0.5357142857142857\n",
            "Root Mean Squared error 0.7319250547113999\n"
          ],
          "name": "stdout"
        }
      ]
    },
    {
      "cell_type": "code",
      "metadata": {
        "colab": {
          "base_uri": "https://localhost:8080/"
        },
        "id": "PwqgbPaWc9fL",
        "outputId": "e81b9387-b480-4af4-c02c-26e2094c4bfe"
      },
      "source": [
        "print(\" KNN Classification Report: \\n{}\\n\".format(metrics.classification_report(y_test, knn_predicted, target_names=['0','1','2'], zero_division = 1)))"
      ],
      "execution_count": null,
      "outputs": [
        {
          "output_type": "stream",
          "text": [
            " KNN Classification Report: \n",
            "              precision    recall  f1-score   support\n",
            "\n",
            "           0       0.70      0.82      0.75        56\n",
            "           1       0.79      0.86      0.82        70\n",
            "           2       0.77      0.48      0.59        42\n",
            "\n",
            "    accuracy                           0.75       168\n",
            "   macro avg       0.75      0.72      0.72       168\n",
            "weighted avg       0.75      0.75      0.74       168\n",
            "\n",
            "\n"
          ],
          "name": "stdout"
        }
      ]
    },
    {
      "cell_type": "code",
      "metadata": {
        "colab": {
          "base_uri": "https://localhost:8080/"
        },
        "id": "e-6z1fxldnZJ",
        "outputId": "2c9b5dbb-dd07-4381-910e-6a72cc268395"
      },
      "source": [
        "from sklearn.metrics import accuracy_score\n",
        "print(\"Accuracy of KNN model:\",accuracy_score(y_test,knn_predicted))"
      ],
      "execution_count": null,
      "outputs": [
        {
          "output_type": "stream",
          "text": [
            "Accuracy of KNN model: 0.75\n"
          ],
          "name": "stdout"
        }
      ]
    },
    {
      "cell_type": "code",
      "metadata": {
        "colab": {
          "base_uri": "https://localhost:8080/"
        },
        "id": "-EACiMmZfTmD",
        "outputId": "377c0f74-2598-4fc4-99b7-4d3804275ab3"
      },
      "source": [
        "from sklearn.linear_model import LinearRegression\n",
        "lr = LinearRegression()\n",
        "lr.fit(X_train, y_train)"
      ],
      "execution_count": null,
      "outputs": [
        {
          "output_type": "execute_result",
          "data": {
            "text/plain": [
              "LinearRegression(copy_X=True, fit_intercept=True, n_jobs=None, normalize=False)"
            ]
          },
          "metadata": {
            "tags": []
          },
          "execution_count": 34
        }
      ]
    },
    {
      "cell_type": "code",
      "metadata": {
        "id": "aHh8rh-O_8Iv"
      },
      "source": [
        "lr_predicted = lr.predict(X_test)\n"
      ],
      "execution_count": null,
      "outputs": []
    },
    {
      "cell_type": "code",
      "metadata": {
        "colab": {
          "base_uri": "https://localhost:8080/"
        },
        "id": "INZl-bRIANbt",
        "outputId": "06fffabd-0955-42ab-fd9d-5f0a9e2e04ea"
      },
      "source": [
        "lr_predicted"
      ],
      "execution_count": null,
      "outputs": [
        {
          "output_type": "execute_result",
          "data": {
            "text/plain": [
              "array([ 0.83084029,  2.04455874,  2.29165829, -0.15101669,  1.14500918,\n",
              "       -0.11860905, -1.47533729,  1.51618565,  0.52054478,  1.04876285,\n",
              "        0.53929794,  0.56477133,  0.65188344,  1.94855053,  0.6286338 ,\n",
              "       -0.23444181,  0.70404116,  1.43064113,  0.77468174,  0.99379447,\n",
              "        1.26918416,  0.3065636 ,  1.5909351 ,  1.13969552,  1.7474034 ,\n",
              "        1.3256329 , -0.06004953,  1.61918543,  1.72179103,  0.28016398,\n",
              "        0.76389278,  0.39094812,  2.70583045,  0.87218265,  1.7826198 ,\n",
              "        0.2194988 ,  1.04315225,  1.83597562,  0.48993993,  1.3299653 ,\n",
              "        0.53050576,  0.41671864,  2.13900008,  0.97327931,  1.16008844,\n",
              "        1.48019378,  0.10552228,  1.53820821,  0.98351418, -0.64497873,\n",
              "        1.95643721,  1.34994466,  0.72250509,  0.6339947 ,  0.62981965,\n",
              "        0.59857632,  1.99942202,  1.93381667,  1.7395923 , -0.18547886,\n",
              "        0.07010933,  1.46376149,  0.25741986,  1.261686  ,  0.3162168 ,\n",
              "        0.96767108,  0.81272723,  0.35702998,  0.62523515,  0.80529513,\n",
              "       -0.07157201,  0.13827367,  1.25800828,  0.20041728,  0.96179943,\n",
              "        0.4430013 ,  0.72955449,  1.43637565,  0.16923037,  1.5440041 ,\n",
              "        0.26071572,  0.91833315,  2.00470424,  1.88104202,  0.81379249,\n",
              "        1.77759303,  0.33776195, -0.06193344,  0.44838074,  0.1163061 ,\n",
              "        1.42728639,  1.61681095,  1.76831408,  0.96818183,  0.26956053,\n",
              "        0.75360957,  0.01825847,  1.29259598,  0.49387231,  1.00971241,\n",
              "        1.07687821,  1.73776386,  1.10495829,  0.21518624,  1.24909753,\n",
              "        1.53123649,  0.2037929 ,  0.66233262,  1.48644144,  1.45940078,\n",
              "        0.08825804,  0.93131436,  1.42895495,  0.89420157,  0.31536154,\n",
              "       -0.07954296,  0.29728842,  1.13658849,  0.44372834,  1.37914334,\n",
              "        0.90417011,  1.59660049,  0.45968195,  0.9286286 ,  1.03405856,\n",
              "        1.24048942,  1.22336135,  0.99935845, -0.49241377,  1.43516377,\n",
              "        1.4403289 ,  0.91791098,  1.90777437,  1.21281576,  1.28927256,\n",
              "        0.25372871,  0.71030852,  1.88342954,  1.20162293,  0.98717038,\n",
              "        1.77497081,  0.54174089,  0.79316088,  1.82424592,  0.33444546,\n",
              "       -0.16392411,  1.75133701,  1.66912065,  0.56155782,  0.68084529,\n",
              "        0.86202372, -0.82008994,  1.70741538,  0.5290689 ,  1.26620976,\n",
              "        0.077794  , -0.22484191,  0.74847304,  0.25080046,  0.92561639,\n",
              "        1.21583983,  1.7664801 ,  2.13524062,  0.2452733 ,  1.05364545,\n",
              "        0.60571481,  0.80079003,  0.53879405])"
            ]
          },
          "metadata": {
            "tags": []
          },
          "execution_count": 36
        }
      ]
    },
    {
      "cell_type": "code",
      "metadata": {
        "colab": {
          "base_uri": "https://localhost:8080/"
        },
        "id": "ZKQwpPsdAX4v",
        "outputId": "062835cc-79d3-481e-d6b9-5dffd8bba664"
      },
      "source": [
        "meanAbsError = metrics.mean_absolute_error(np.array(y_test), lr_predicted)\n",
        "meanSqrdError = metrics.mean_squared_error(np.array(y_test), lr_predicted)\n",
        "rootMeanSqrdError = np.sqrt(meanSqrdError)\n",
        "print(\"Linear Regression Metrics\")\n",
        "print(\"Mean Absolute Error\", meanAbsError)\n",
        "print(\"Mean Squared Error\", meanSqrdError)\n",
        "print(\"Root Mean Squared error\", rootMeanSqrdError)"
      ],
      "execution_count": null,
      "outputs": [
        {
          "output_type": "stream",
          "text": [
            "Linear Regression Metrics\n",
            "Mean Absolute Error 0.36040663800534434\n",
            "Mean Squared Error 0.21936065519113465\n",
            "Root Mean Squared error 0.46835953624446963\n"
          ],
          "name": "stdout"
        }
      ]
    },
    {
      "cell_type": "code",
      "metadata": {
        "id": "GXZ2WSZ2IBwy"
      },
      "source": [
        "#cnn model creation\n",
        "cnn_model = keras.Sequential([\n",
        "    keras.layers.Conv2D(8,(3,3), activation = 'relu',input_shape = (32,32,3)),\n",
        "\n",
        "    keras.layers.Conv2D(16, (3,3), activation = 'relu'),\n",
        "    #keras.layers.MaxPooling2D(2,2),\n",
        "\n",
        "    keras.layers.Conv2D(32,(3,3),activation = 'relu'),\n",
        "    #keras.layers.MaxPooling2D(2,2),\n",
        "\n",
        "    keras.layers.Flatten(),\n",
        "    keras.layers.Dense(32, activation = 'relu'),\n",
        "    keras.layers.Dropout(0.25),\n",
        "    keras.layers.Dense(1, activation = 'relu')\n",
        "\n",
        "])"
      ],
      "execution_count": null,
      "outputs": []
    },
    {
      "cell_type": "code",
      "metadata": {
        "id": "f57J8AP239fi"
      },
      "source": [
        "X_ = nd_array\n",
        "y_ = target"
      ],
      "execution_count": null,
      "outputs": []
    },
    {
      "cell_type": "code",
      "metadata": {
        "id": "4LIbYB7z65qk"
      },
      "source": [
        "#y_array =np.array(y_)"
      ],
      "execution_count": null,
      "outputs": []
    },
    {
      "cell_type": "code",
      "metadata": {
        "colab": {
          "base_uri": "https://localhost:8080/"
        },
        "id": "FWs4dfmxpFnk",
        "outputId": "02a7b83e-077c-42c6-b637-3d362741f264"
      },
      "source": [
        "y_"
      ],
      "execution_count": null,
      "outputs": [
        {
          "output_type": "execute_result",
          "data": {
            "text/plain": [
              "array([2, 2, 2, 2, 2, 2, 2, 2, 2, 2, 2, 2, 2, 2, 2, 2, 2, 2, 2, 2, 2, 2,\n",
              "       2, 2, 2, 2, 2, 2, 2, 2, 2, 2, 2, 2, 2, 2, 2, 2, 2, 2, 2, 2, 2, 2,\n",
              "       2, 2, 2, 2, 2, 2, 2, 2, 2, 2, 2, 2, 2, 2, 2, 2, 2, 2, 2, 2, 2, 2,\n",
              "       2, 2, 2, 2, 2, 2, 2, 2, 2, 2, 2, 2, 2, 2, 2, 2, 2, 2, 2, 2, 2, 2,\n",
              "       2, 2, 2, 2, 2, 2, 2, 2, 2, 2, 2, 2, 2, 2, 2, 2, 2, 2, 2, 2, 2, 2,\n",
              "       2, 2, 2, 2, 2, 2, 2, 2, 2, 2, 2, 2, 2, 2, 1, 1, 1, 1, 1, 1, 1, 1,\n",
              "       1, 1, 1, 1, 1, 1, 1, 1, 1, 1, 1, 1, 1, 1, 1, 1, 1, 1, 1, 1, 1, 1,\n",
              "       1, 1, 1, 1, 1, 1, 1, 1, 1, 1, 1, 1, 1, 1, 1, 1, 1, 1, 1, 1, 1, 1,\n",
              "       1, 1, 1, 1, 1, 1, 1, 1, 1, 1, 1, 1, 1, 1, 1, 1, 1, 1, 1, 1, 1, 1,\n",
              "       1, 1, 1, 1, 1, 1, 1, 1, 1, 1, 1, 1, 1, 1, 1, 1, 1, 1, 1, 1, 1, 1,\n",
              "       1, 1, 1, 1, 1, 1, 1, 1, 1, 1, 1, 1, 1, 1, 1, 1, 1, 1, 1, 1, 1, 1,\n",
              "       1, 1, 1, 1, 1, 1, 1, 1, 1, 1, 1, 1, 1, 1, 1, 1, 1, 1, 1, 1, 1, 1,\n",
              "       1, 1, 1, 1, 1, 1, 1, 1, 1, 1, 1, 1, 1, 1, 1, 1, 1, 1, 1, 1, 1, 1,\n",
              "       1, 1, 1, 1, 1, 1, 1, 1, 1, 1, 1, 1, 1, 1, 1, 1, 1, 1, 1, 1, 1, 1,\n",
              "       1, 1, 1, 1, 1, 1, 1, 1, 1, 1, 1, 1, 1, 1, 1, 1, 1, 1, 1, 1, 1, 1,\n",
              "       1, 1, 1, 1, 1, 1, 1, 1, 1, 1, 1, 1, 1, 1, 1, 1, 1, 1, 1, 1, 1, 1,\n",
              "       1, 1, 1, 1, 1, 1, 1, 1, 0, 0, 0, 0, 0, 0, 0, 0, 0, 0, 0, 0, 0, 0,\n",
              "       0, 0, 0, 0, 0, 0, 0, 0, 0, 0, 0, 0, 0, 0, 0, 0, 0, 0, 0, 0, 0, 0,\n",
              "       0, 0, 0, 0, 0, 0, 0, 0, 0, 0, 0, 0, 0, 0, 0, 0, 0, 0, 0, 0, 0, 0,\n",
              "       0, 0, 0, 0, 0, 0, 0, 0, 0, 0, 0, 0, 0, 0, 0, 0, 0, 0, 0, 0, 0, 0,\n",
              "       0, 0, 0, 0, 0, 0, 0, 0, 0, 0, 0, 0, 0, 0, 0, 0, 0, 0, 0, 0, 0, 0,\n",
              "       0, 0, 0, 0, 0, 0, 0, 0, 0, 0, 0, 0, 0, 0, 0, 0, 0, 0, 0, 0, 0, 0,\n",
              "       0, 0, 0, 0, 0, 0, 0, 0, 0, 0, 0, 0, 0, 0, 0, 0, 0, 0, 0, 0, 0, 0,\n",
              "       0, 0, 0, 0, 0, 0, 0, 0, 0, 0, 0, 0, 0, 0, 0, 0, 0, 0, 0, 0, 0, 0,\n",
              "       0, 0, 0, 0, 0, 0, 0, 0, 0, 0, 0, 0, 0, 0, 0, 0, 0, 0, 0, 0, 0, 0,\n",
              "       0, 0, 0, 0, 0, 0, 0])"
            ]
          },
          "metadata": {
            "tags": []
          },
          "execution_count": 70
        }
      ]
    },
    {
      "cell_type": "code",
      "metadata": {
        "colab": {
          "base_uri": "https://localhost:8080/"
        },
        "id": "vPrLIKr74aW4",
        "outputId": "623ab90f-d26c-4761-aa7f-af568feafbb2"
      },
      "source": [
        "X_.shape"
      ],
      "execution_count": null,
      "outputs": [
        {
          "output_type": "execute_result",
          "data": {
            "text/plain": [
              "(557, 224, 224, 3)"
            ]
          },
          "metadata": {
            "tags": []
          },
          "execution_count": 33
        }
      ]
    },
    {
      "cell_type": "code",
      "metadata": {
        "id": "sGPixcP15j_s"
      },
      "source": [
        "from keras.utils import np_utils\n",
        "y_cat = np_utils.to_categorical(target, 1000)"
      ],
      "execution_count": null,
      "outputs": []
    },
    {
      "cell_type": "code",
      "metadata": {
        "colab": {
          "base_uri": "https://localhost:8080/"
        },
        "id": "uw6B5Pz_6Zyz",
        "outputId": "e7b6da4c-41a1-46b3-bd51-eef6b01ed703"
      },
      "source": [
        "y_cat.shape"
      ],
      "execution_count": null,
      "outputs": [
        {
          "output_type": "execute_result",
          "data": {
            "text/plain": [
              "(557, 1000)"
            ]
          },
          "metadata": {
            "tags": []
          },
          "execution_count": 36
        }
      ]
    },
    {
      "cell_type": "code",
      "metadata": {
        "id": "8wSpA6HtzqMr"
      },
      "source": [
        "X_train_, X_test_, y_train_, y_test_ = train_test_split(X_, y_cat, test_size=0.30, random_state=30)"
      ],
      "execution_count": null,
      "outputs": []
    },
    {
      "cell_type": "code",
      "metadata": {
        "colab": {
          "base_uri": "https://localhost:8080/"
        },
        "id": "CxkxBeGFPXq5",
        "outputId": "f67251fc-5c8b-4597-9b27-1c07bc096816"
      },
      "source": [
        "X_train_.shape"
      ],
      "execution_count": null,
      "outputs": [
        {
          "output_type": "execute_result",
          "data": {
            "text/plain": [
              "(389, 224, 224, 3)"
            ]
          },
          "metadata": {
            "tags": []
          },
          "execution_count": 38
        }
      ]
    },
    {
      "cell_type": "code",
      "metadata": {
        "id": "J3rvDk-4vuHX"
      },
      "source": [
        "cnn_model.compile(loss='binary_crossentropy',\n",
        "              optimizer= keras.optimizers.SGD(learning_rate=0.01, momentum=0.9),\n",
        "              metrics=['accuracy'])"
      ],
      "execution_count": null,
      "outputs": []
    },
    {
      "cell_type": "code",
      "metadata": {
        "colab": {
          "base_uri": "https://localhost:8080/"
        },
        "id": "14jSxMLhv7GR",
        "outputId": "93917643-7949-496d-d525-b9deb6dae12f"
      },
      "source": [
        "cnn_model.fit(X_train_, y_train_, batch_size=64, epochs=10, validation_data=(X_test_, y_test_))"
      ],
      "execution_count": null,
      "outputs": [
        {
          "output_type": "stream",
          "text": [
            "Epoch 1/10\n",
            "7/7 [==============================] - 1s 103ms/step - loss: 13.0066 - accuracy: 0.3753 - val_loss: 13.6805 - val_accuracy: 0.3095\n",
            "Epoch 2/10\n",
            "7/7 [==============================] - 1s 99ms/step - loss: 13.2044 - accuracy: 0.3779 - val_loss: 13.6805 - val_accuracy: 0.3095\n",
            "Epoch 3/10\n",
            "7/7 [==============================] - 1s 100ms/step - loss: 13.0850 - accuracy: 0.3779 - val_loss: 13.6805 - val_accuracy: 0.3095\n",
            "Epoch 4/10\n",
            "7/7 [==============================] - 1s 100ms/step - loss: 12.8480 - accuracy: 0.3702 - val_loss: 13.6805 - val_accuracy: 0.3095\n",
            "Epoch 5/10\n",
            "7/7 [==============================] - 1s 100ms/step - loss: 13.4008 - accuracy: 0.3650 - val_loss: 13.6805 - val_accuracy: 0.3095\n",
            "Epoch 6/10\n",
            "7/7 [==============================] - 1s 99ms/step - loss: 13.0462 - accuracy: 0.3805 - val_loss: 13.6805 - val_accuracy: 0.3095\n",
            "Epoch 7/10\n",
            "7/7 [==============================] - 1s 125ms/step - loss: 13.0061 - accuracy: 0.3830 - val_loss: 13.6805 - val_accuracy: 0.3095\n",
            "Epoch 8/10\n",
            "7/7 [==============================] - 1s 100ms/step - loss: 13.1647 - accuracy: 0.3805 - val_loss: 13.6805 - val_accuracy: 0.3095\n",
            "Epoch 9/10\n",
            "7/7 [==============================] - 1s 100ms/step - loss: 12.9674 - accuracy: 0.3702 - val_loss: 13.6805 - val_accuracy: 0.3095\n",
            "Epoch 10/10\n",
            "7/7 [==============================] - 1s 99ms/step - loss: 13.2427 - accuracy: 0.3753 - val_loss: 13.6805 - val_accuracy: 0.3095\n"
          ],
          "name": "stdout"
        },
        {
          "output_type": "execute_result",
          "data": {
            "text/plain": [
              "<tensorflow.python.keras.callbacks.History at 0x7f0d0ce98f90>"
            ]
          },
          "metadata": {
            "tags": []
          },
          "execution_count": 78
        }
      ]
    },
    {
      "cell_type": "code",
      "metadata": {
        "id": "vIDN01LUE2hS"
      },
      "source": [
        "WARNING:tensorflow:Model was constructed with shape\n",
        " (None, 32, 32, 3) for input KerasTensor(type_spec=TensorSpec(shape=(None, 32, 32, 3), dtype=tf.float32, name='conv2d_input'), name='conv2d_input', \n",
        "                description=\"created by layer 'conv2d_input'\"), but it was called on an input with incompatible shape (None, 224, 224, 3).\n",
        "---------------------------------------------------------------------------"
      ],
      "execution_count": null,
      "outputs": []
    },
    {
      "cell_type": "code",
      "metadata": {
        "colab": {
          "base_uri": "https://localhost:8080/"
        },
        "id": "f5Tf2fo58hji",
        "outputId": "7a1b9aeb-bebe-40fc-a541-6ddfd43ab343"
      },
      "source": [
        "cnn_model.evaluate(X_test_, y_test_ )"
      ],
      "execution_count": null,
      "outputs": [
        {
          "output_type": "stream",
          "text": [
            "6/6 [==============================] - 0s 14ms/step - loss: 13.6805 - accuracy: 0.3095\n"
          ],
          "name": "stdout"
        },
        {
          "output_type": "execute_result",
          "data": {
            "text/plain": [
              "[13.680460929870605, 0.3095238208770752]"
            ]
          },
          "metadata": {
            "tags": []
          },
          "execution_count": 79
        }
      ]
    },
    {
      "cell_type": "code",
      "metadata": {
        "colab": {
          "base_uri": "https://localhost:8080/"
        },
        "id": "_CZvkHCD8OKJ",
        "outputId": "197a8d51-fc02-4109-dc80-cb336d1b223c"
      },
      "source": [
        "cnn_model.summary()"
      ],
      "execution_count": null,
      "outputs": [
        {
          "output_type": "stream",
          "text": [
            "Model: \"sequential\"\n",
            "_________________________________________________________________\n",
            "Layer (type)                 Output Shape              Param #   \n",
            "=================================================================\n",
            "conv2d (Conv2D)              (None, 30, 30, 8)         224       \n",
            "_________________________________________________________________\n",
            "conv2d_1 (Conv2D)            (None, 28, 28, 16)        1168      \n",
            "_________________________________________________________________\n",
            "conv2d_2 (Conv2D)            (None, 26, 26, 32)        4640      \n",
            "_________________________________________________________________\n",
            "flatten (Flatten)            (None, 21632)             0         \n",
            "_________________________________________________________________\n",
            "dense (Dense)                (None, 32)                692256    \n",
            "_________________________________________________________________\n",
            "dropout (Dropout)            (None, 32)                0         \n",
            "_________________________________________________________________\n",
            "dense_1 (Dense)              (None, 1)                 33        \n",
            "=================================================================\n",
            "Total params: 698,321\n",
            "Trainable params: 698,321\n",
            "Non-trainable params: 0\n",
            "_________________________________________________________________\n"
          ],
          "name": "stdout"
        }
      ]
    },
    {
      "cell_type": "code",
      "metadata": {
        "id": "IalNPJCTEfRq",
        "colab": {
          "base_uri": "https://localhost:8080/"
        },
        "outputId": "8b28dc76-423c-405c-df0b-e19f358d4111"
      },
      "source": [
        "resnet = keras.applications.ResNet50()"
      ],
      "execution_count": null,
      "outputs": [
        {
          "output_type": "stream",
          "text": [
            "Downloading data from https://storage.googleapis.com/tensorflow/keras-applications/resnet/resnet50_weights_tf_dim_ordering_tf_kernels.h5\n",
            "102973440/102967424 [==============================] - 1s 0us/step\n"
          ],
          "name": "stdout"
        }
      ]
    },
    {
      "cell_type": "code",
      "metadata": {
        "id": "WX1Cnw55JMFN"
      },
      "source": [
        "resnet.compile(loss='CategoricalCrossentropy',\n",
        "              optimizer= keras.optimizers.SGD(learning_rate=0.01, momentum=0.9),\n",
        "              metrics=['accuracy'])"
      ],
      "execution_count": null,
      "outputs": []
    },
    {
      "cell_type": "code",
      "metadata": {
        "colab": {
          "base_uri": "https://localhost:8080/"
        },
        "id": "QomkYcaDQ15G",
        "outputId": "a72ac39b-12c0-4dbe-c021-5e0673bc3ccc"
      },
      "source": [
        "resnet.summary()"
      ],
      "execution_count": null,
      "outputs": [
        {
          "output_type": "stream",
          "text": [
            "Model: \"resnet50\"\n",
            "__________________________________________________________________________________________________\n",
            "Layer (type)                    Output Shape         Param #     Connected to                     \n",
            "==================================================================================================\n",
            "input_1 (InputLayer)            [(None, 224, 224, 3) 0                                            \n",
            "__________________________________________________________________________________________________\n",
            "conv1_pad (ZeroPadding2D)       (None, 230, 230, 3)  0           input_1[0][0]                    \n",
            "__________________________________________________________________________________________________\n",
            "conv1_conv (Conv2D)             (None, 112, 112, 64) 9472        conv1_pad[0][0]                  \n",
            "__________________________________________________________________________________________________\n",
            "conv1_bn (BatchNormalization)   (None, 112, 112, 64) 256         conv1_conv[0][0]                 \n",
            "__________________________________________________________________________________________________\n",
            "conv1_relu (Activation)         (None, 112, 112, 64) 0           conv1_bn[0][0]                   \n",
            "__________________________________________________________________________________________________\n",
            "pool1_pad (ZeroPadding2D)       (None, 114, 114, 64) 0           conv1_relu[0][0]                 \n",
            "__________________________________________________________________________________________________\n",
            "pool1_pool (MaxPooling2D)       (None, 56, 56, 64)   0           pool1_pad[0][0]                  \n",
            "__________________________________________________________________________________________________\n",
            "conv2_block1_1_conv (Conv2D)    (None, 56, 56, 64)   4160        pool1_pool[0][0]                 \n",
            "__________________________________________________________________________________________________\n",
            "conv2_block1_1_bn (BatchNormali (None, 56, 56, 64)   256         conv2_block1_1_conv[0][0]        \n",
            "__________________________________________________________________________________________________\n",
            "conv2_block1_1_relu (Activation (None, 56, 56, 64)   0           conv2_block1_1_bn[0][0]          \n",
            "__________________________________________________________________________________________________\n",
            "conv2_block1_2_conv (Conv2D)    (None, 56, 56, 64)   36928       conv2_block1_1_relu[0][0]        \n",
            "__________________________________________________________________________________________________\n",
            "conv2_block1_2_bn (BatchNormali (None, 56, 56, 64)   256         conv2_block1_2_conv[0][0]        \n",
            "__________________________________________________________________________________________________\n",
            "conv2_block1_2_relu (Activation (None, 56, 56, 64)   0           conv2_block1_2_bn[0][0]          \n",
            "__________________________________________________________________________________________________\n",
            "conv2_block1_0_conv (Conv2D)    (None, 56, 56, 256)  16640       pool1_pool[0][0]                 \n",
            "__________________________________________________________________________________________________\n",
            "conv2_block1_3_conv (Conv2D)    (None, 56, 56, 256)  16640       conv2_block1_2_relu[0][0]        \n",
            "__________________________________________________________________________________________________\n",
            "conv2_block1_0_bn (BatchNormali (None, 56, 56, 256)  1024        conv2_block1_0_conv[0][0]        \n",
            "__________________________________________________________________________________________________\n",
            "conv2_block1_3_bn (BatchNormali (None, 56, 56, 256)  1024        conv2_block1_3_conv[0][0]        \n",
            "__________________________________________________________________________________________________\n",
            "conv2_block1_add (Add)          (None, 56, 56, 256)  0           conv2_block1_0_bn[0][0]          \n",
            "                                                                 conv2_block1_3_bn[0][0]          \n",
            "__________________________________________________________________________________________________\n",
            "conv2_block1_out (Activation)   (None, 56, 56, 256)  0           conv2_block1_add[0][0]           \n",
            "__________________________________________________________________________________________________\n",
            "conv2_block2_1_conv (Conv2D)    (None, 56, 56, 64)   16448       conv2_block1_out[0][0]           \n",
            "__________________________________________________________________________________________________\n",
            "conv2_block2_1_bn (BatchNormali (None, 56, 56, 64)   256         conv2_block2_1_conv[0][0]        \n",
            "__________________________________________________________________________________________________\n",
            "conv2_block2_1_relu (Activation (None, 56, 56, 64)   0           conv2_block2_1_bn[0][0]          \n",
            "__________________________________________________________________________________________________\n",
            "conv2_block2_2_conv (Conv2D)    (None, 56, 56, 64)   36928       conv2_block2_1_relu[0][0]        \n",
            "__________________________________________________________________________________________________\n",
            "conv2_block2_2_bn (BatchNormali (None, 56, 56, 64)   256         conv2_block2_2_conv[0][0]        \n",
            "__________________________________________________________________________________________________\n",
            "conv2_block2_2_relu (Activation (None, 56, 56, 64)   0           conv2_block2_2_bn[0][0]          \n",
            "__________________________________________________________________________________________________\n",
            "conv2_block2_3_conv (Conv2D)    (None, 56, 56, 256)  16640       conv2_block2_2_relu[0][0]        \n",
            "__________________________________________________________________________________________________\n",
            "conv2_block2_3_bn (BatchNormali (None, 56, 56, 256)  1024        conv2_block2_3_conv[0][0]        \n",
            "__________________________________________________________________________________________________\n",
            "conv2_block2_add (Add)          (None, 56, 56, 256)  0           conv2_block1_out[0][0]           \n",
            "                                                                 conv2_block2_3_bn[0][0]          \n",
            "__________________________________________________________________________________________________\n",
            "conv2_block2_out (Activation)   (None, 56, 56, 256)  0           conv2_block2_add[0][0]           \n",
            "__________________________________________________________________________________________________\n",
            "conv2_block3_1_conv (Conv2D)    (None, 56, 56, 64)   16448       conv2_block2_out[0][0]           \n",
            "__________________________________________________________________________________________________\n",
            "conv2_block3_1_bn (BatchNormali (None, 56, 56, 64)   256         conv2_block3_1_conv[0][0]        \n",
            "__________________________________________________________________________________________________\n",
            "conv2_block3_1_relu (Activation (None, 56, 56, 64)   0           conv2_block3_1_bn[0][0]          \n",
            "__________________________________________________________________________________________________\n",
            "conv2_block3_2_conv (Conv2D)    (None, 56, 56, 64)   36928       conv2_block3_1_relu[0][0]        \n",
            "__________________________________________________________________________________________________\n",
            "conv2_block3_2_bn (BatchNormali (None, 56, 56, 64)   256         conv2_block3_2_conv[0][0]        \n",
            "__________________________________________________________________________________________________\n",
            "conv2_block3_2_relu (Activation (None, 56, 56, 64)   0           conv2_block3_2_bn[0][0]          \n",
            "__________________________________________________________________________________________________\n",
            "conv2_block3_3_conv (Conv2D)    (None, 56, 56, 256)  16640       conv2_block3_2_relu[0][0]        \n",
            "__________________________________________________________________________________________________\n",
            "conv2_block3_3_bn (BatchNormali (None, 56, 56, 256)  1024        conv2_block3_3_conv[0][0]        \n",
            "__________________________________________________________________________________________________\n",
            "conv2_block3_add (Add)          (None, 56, 56, 256)  0           conv2_block2_out[0][0]           \n",
            "                                                                 conv2_block3_3_bn[0][0]          \n",
            "__________________________________________________________________________________________________\n",
            "conv2_block3_out (Activation)   (None, 56, 56, 256)  0           conv2_block3_add[0][0]           \n",
            "__________________________________________________________________________________________________\n",
            "conv3_block1_1_conv (Conv2D)    (None, 28, 28, 128)  32896       conv2_block3_out[0][0]           \n",
            "__________________________________________________________________________________________________\n",
            "conv3_block1_1_bn (BatchNormali (None, 28, 28, 128)  512         conv3_block1_1_conv[0][0]        \n",
            "__________________________________________________________________________________________________\n",
            "conv3_block1_1_relu (Activation (None, 28, 28, 128)  0           conv3_block1_1_bn[0][0]          \n",
            "__________________________________________________________________________________________________\n",
            "conv3_block1_2_conv (Conv2D)    (None, 28, 28, 128)  147584      conv3_block1_1_relu[0][0]        \n",
            "__________________________________________________________________________________________________\n",
            "conv3_block1_2_bn (BatchNormali (None, 28, 28, 128)  512         conv3_block1_2_conv[0][0]        \n",
            "__________________________________________________________________________________________________\n",
            "conv3_block1_2_relu (Activation (None, 28, 28, 128)  0           conv3_block1_2_bn[0][0]          \n",
            "__________________________________________________________________________________________________\n",
            "conv3_block1_0_conv (Conv2D)    (None, 28, 28, 512)  131584      conv2_block3_out[0][0]           \n",
            "__________________________________________________________________________________________________\n",
            "conv3_block1_3_conv (Conv2D)    (None, 28, 28, 512)  66048       conv3_block1_2_relu[0][0]        \n",
            "__________________________________________________________________________________________________\n",
            "conv3_block1_0_bn (BatchNormali (None, 28, 28, 512)  2048        conv3_block1_0_conv[0][0]        \n",
            "__________________________________________________________________________________________________\n",
            "conv3_block1_3_bn (BatchNormali (None, 28, 28, 512)  2048        conv3_block1_3_conv[0][0]        \n",
            "__________________________________________________________________________________________________\n",
            "conv3_block1_add (Add)          (None, 28, 28, 512)  0           conv3_block1_0_bn[0][0]          \n",
            "                                                                 conv3_block1_3_bn[0][0]          \n",
            "__________________________________________________________________________________________________\n",
            "conv3_block1_out (Activation)   (None, 28, 28, 512)  0           conv3_block1_add[0][0]           \n",
            "__________________________________________________________________________________________________\n",
            "conv3_block2_1_conv (Conv2D)    (None, 28, 28, 128)  65664       conv3_block1_out[0][0]           \n",
            "__________________________________________________________________________________________________\n",
            "conv3_block2_1_bn (BatchNormali (None, 28, 28, 128)  512         conv3_block2_1_conv[0][0]        \n",
            "__________________________________________________________________________________________________\n",
            "conv3_block2_1_relu (Activation (None, 28, 28, 128)  0           conv3_block2_1_bn[0][0]          \n",
            "__________________________________________________________________________________________________\n",
            "conv3_block2_2_conv (Conv2D)    (None, 28, 28, 128)  147584      conv3_block2_1_relu[0][0]        \n",
            "__________________________________________________________________________________________________\n",
            "conv3_block2_2_bn (BatchNormali (None, 28, 28, 128)  512         conv3_block2_2_conv[0][0]        \n",
            "__________________________________________________________________________________________________\n",
            "conv3_block2_2_relu (Activation (None, 28, 28, 128)  0           conv3_block2_2_bn[0][0]          \n",
            "__________________________________________________________________________________________________\n",
            "conv3_block2_3_conv (Conv2D)    (None, 28, 28, 512)  66048       conv3_block2_2_relu[0][0]        \n",
            "__________________________________________________________________________________________________\n",
            "conv3_block2_3_bn (BatchNormali (None, 28, 28, 512)  2048        conv3_block2_3_conv[0][0]        \n",
            "__________________________________________________________________________________________________\n",
            "conv3_block2_add (Add)          (None, 28, 28, 512)  0           conv3_block1_out[0][0]           \n",
            "                                                                 conv3_block2_3_bn[0][0]          \n",
            "__________________________________________________________________________________________________\n",
            "conv3_block2_out (Activation)   (None, 28, 28, 512)  0           conv3_block2_add[0][0]           \n",
            "__________________________________________________________________________________________________\n",
            "conv3_block3_1_conv (Conv2D)    (None, 28, 28, 128)  65664       conv3_block2_out[0][0]           \n",
            "__________________________________________________________________________________________________\n",
            "conv3_block3_1_bn (BatchNormali (None, 28, 28, 128)  512         conv3_block3_1_conv[0][0]        \n",
            "__________________________________________________________________________________________________\n",
            "conv3_block3_1_relu (Activation (None, 28, 28, 128)  0           conv3_block3_1_bn[0][0]          \n",
            "__________________________________________________________________________________________________\n",
            "conv3_block3_2_conv (Conv2D)    (None, 28, 28, 128)  147584      conv3_block3_1_relu[0][0]        \n",
            "__________________________________________________________________________________________________\n",
            "conv3_block3_2_bn (BatchNormali (None, 28, 28, 128)  512         conv3_block3_2_conv[0][0]        \n",
            "__________________________________________________________________________________________________\n",
            "conv3_block3_2_relu (Activation (None, 28, 28, 128)  0           conv3_block3_2_bn[0][0]          \n",
            "__________________________________________________________________________________________________\n",
            "conv3_block3_3_conv (Conv2D)    (None, 28, 28, 512)  66048       conv3_block3_2_relu[0][0]        \n",
            "__________________________________________________________________________________________________\n",
            "conv3_block3_3_bn (BatchNormali (None, 28, 28, 512)  2048        conv3_block3_3_conv[0][0]        \n",
            "__________________________________________________________________________________________________\n",
            "conv3_block3_add (Add)          (None, 28, 28, 512)  0           conv3_block2_out[0][0]           \n",
            "                                                                 conv3_block3_3_bn[0][0]          \n",
            "__________________________________________________________________________________________________\n",
            "conv3_block3_out (Activation)   (None, 28, 28, 512)  0           conv3_block3_add[0][0]           \n",
            "__________________________________________________________________________________________________\n",
            "conv3_block4_1_conv (Conv2D)    (None, 28, 28, 128)  65664       conv3_block3_out[0][0]           \n",
            "__________________________________________________________________________________________________\n",
            "conv3_block4_1_bn (BatchNormali (None, 28, 28, 128)  512         conv3_block4_1_conv[0][0]        \n",
            "__________________________________________________________________________________________________\n",
            "conv3_block4_1_relu (Activation (None, 28, 28, 128)  0           conv3_block4_1_bn[0][0]          \n",
            "__________________________________________________________________________________________________\n",
            "conv3_block4_2_conv (Conv2D)    (None, 28, 28, 128)  147584      conv3_block4_1_relu[0][0]        \n",
            "__________________________________________________________________________________________________\n",
            "conv3_block4_2_bn (BatchNormali (None, 28, 28, 128)  512         conv3_block4_2_conv[0][0]        \n",
            "__________________________________________________________________________________________________\n",
            "conv3_block4_2_relu (Activation (None, 28, 28, 128)  0           conv3_block4_2_bn[0][0]          \n",
            "__________________________________________________________________________________________________\n",
            "conv3_block4_3_conv (Conv2D)    (None, 28, 28, 512)  66048       conv3_block4_2_relu[0][0]        \n",
            "__________________________________________________________________________________________________\n",
            "conv3_block4_3_bn (BatchNormali (None, 28, 28, 512)  2048        conv3_block4_3_conv[0][0]        \n",
            "__________________________________________________________________________________________________\n",
            "conv3_block4_add (Add)          (None, 28, 28, 512)  0           conv3_block3_out[0][0]           \n",
            "                                                                 conv3_block4_3_bn[0][0]          \n",
            "__________________________________________________________________________________________________\n",
            "conv3_block4_out (Activation)   (None, 28, 28, 512)  0           conv3_block4_add[0][0]           \n",
            "__________________________________________________________________________________________________\n",
            "conv4_block1_1_conv (Conv2D)    (None, 14, 14, 256)  131328      conv3_block4_out[0][0]           \n",
            "__________________________________________________________________________________________________\n",
            "conv4_block1_1_bn (BatchNormali (None, 14, 14, 256)  1024        conv4_block1_1_conv[0][0]        \n",
            "__________________________________________________________________________________________________\n",
            "conv4_block1_1_relu (Activation (None, 14, 14, 256)  0           conv4_block1_1_bn[0][0]          \n",
            "__________________________________________________________________________________________________\n",
            "conv4_block1_2_conv (Conv2D)    (None, 14, 14, 256)  590080      conv4_block1_1_relu[0][0]        \n",
            "__________________________________________________________________________________________________\n",
            "conv4_block1_2_bn (BatchNormali (None, 14, 14, 256)  1024        conv4_block1_2_conv[0][0]        \n",
            "__________________________________________________________________________________________________\n",
            "conv4_block1_2_relu (Activation (None, 14, 14, 256)  0           conv4_block1_2_bn[0][0]          \n",
            "__________________________________________________________________________________________________\n",
            "conv4_block1_0_conv (Conv2D)    (None, 14, 14, 1024) 525312      conv3_block4_out[0][0]           \n",
            "__________________________________________________________________________________________________\n",
            "conv4_block1_3_conv (Conv2D)    (None, 14, 14, 1024) 263168      conv4_block1_2_relu[0][0]        \n",
            "__________________________________________________________________________________________________\n",
            "conv4_block1_0_bn (BatchNormali (None, 14, 14, 1024) 4096        conv4_block1_0_conv[0][0]        \n",
            "__________________________________________________________________________________________________\n",
            "conv4_block1_3_bn (BatchNormali (None, 14, 14, 1024) 4096        conv4_block1_3_conv[0][0]        \n",
            "__________________________________________________________________________________________________\n",
            "conv4_block1_add (Add)          (None, 14, 14, 1024) 0           conv4_block1_0_bn[0][0]          \n",
            "                                                                 conv4_block1_3_bn[0][0]          \n",
            "__________________________________________________________________________________________________\n",
            "conv4_block1_out (Activation)   (None, 14, 14, 1024) 0           conv4_block1_add[0][0]           \n",
            "__________________________________________________________________________________________________\n",
            "conv4_block2_1_conv (Conv2D)    (None, 14, 14, 256)  262400      conv4_block1_out[0][0]           \n",
            "__________________________________________________________________________________________________\n",
            "conv4_block2_1_bn (BatchNormali (None, 14, 14, 256)  1024        conv4_block2_1_conv[0][0]        \n",
            "__________________________________________________________________________________________________\n",
            "conv4_block2_1_relu (Activation (None, 14, 14, 256)  0           conv4_block2_1_bn[0][0]          \n",
            "__________________________________________________________________________________________________\n",
            "conv4_block2_2_conv (Conv2D)    (None, 14, 14, 256)  590080      conv4_block2_1_relu[0][0]        \n",
            "__________________________________________________________________________________________________\n",
            "conv4_block2_2_bn (BatchNormali (None, 14, 14, 256)  1024        conv4_block2_2_conv[0][0]        \n",
            "__________________________________________________________________________________________________\n",
            "conv4_block2_2_relu (Activation (None, 14, 14, 256)  0           conv4_block2_2_bn[0][0]          \n",
            "__________________________________________________________________________________________________\n",
            "conv4_block2_3_conv (Conv2D)    (None, 14, 14, 1024) 263168      conv4_block2_2_relu[0][0]        \n",
            "__________________________________________________________________________________________________\n",
            "conv4_block2_3_bn (BatchNormali (None, 14, 14, 1024) 4096        conv4_block2_3_conv[0][0]        \n",
            "__________________________________________________________________________________________________\n",
            "conv4_block2_add (Add)          (None, 14, 14, 1024) 0           conv4_block1_out[0][0]           \n",
            "                                                                 conv4_block2_3_bn[0][0]          \n",
            "__________________________________________________________________________________________________\n",
            "conv4_block2_out (Activation)   (None, 14, 14, 1024) 0           conv4_block2_add[0][0]           \n",
            "__________________________________________________________________________________________________\n",
            "conv4_block3_1_conv (Conv2D)    (None, 14, 14, 256)  262400      conv4_block2_out[0][0]           \n",
            "__________________________________________________________________________________________________\n",
            "conv4_block3_1_bn (BatchNormali (None, 14, 14, 256)  1024        conv4_block3_1_conv[0][0]        \n",
            "__________________________________________________________________________________________________\n",
            "conv4_block3_1_relu (Activation (None, 14, 14, 256)  0           conv4_block3_1_bn[0][0]          \n",
            "__________________________________________________________________________________________________\n",
            "conv4_block3_2_conv (Conv2D)    (None, 14, 14, 256)  590080      conv4_block3_1_relu[0][0]        \n",
            "__________________________________________________________________________________________________\n",
            "conv4_block3_2_bn (BatchNormali (None, 14, 14, 256)  1024        conv4_block3_2_conv[0][0]        \n",
            "__________________________________________________________________________________________________\n",
            "conv4_block3_2_relu (Activation (None, 14, 14, 256)  0           conv4_block3_2_bn[0][0]          \n",
            "__________________________________________________________________________________________________\n",
            "conv4_block3_3_conv (Conv2D)    (None, 14, 14, 1024) 263168      conv4_block3_2_relu[0][0]        \n",
            "__________________________________________________________________________________________________\n",
            "conv4_block3_3_bn (BatchNormali (None, 14, 14, 1024) 4096        conv4_block3_3_conv[0][0]        \n",
            "__________________________________________________________________________________________________\n",
            "conv4_block3_add (Add)          (None, 14, 14, 1024) 0           conv4_block2_out[0][0]           \n",
            "                                                                 conv4_block3_3_bn[0][0]          \n",
            "__________________________________________________________________________________________________\n",
            "conv4_block3_out (Activation)   (None, 14, 14, 1024) 0           conv4_block3_add[0][0]           \n",
            "__________________________________________________________________________________________________\n",
            "conv4_block4_1_conv (Conv2D)    (None, 14, 14, 256)  262400      conv4_block3_out[0][0]           \n",
            "__________________________________________________________________________________________________\n",
            "conv4_block4_1_bn (BatchNormali (None, 14, 14, 256)  1024        conv4_block4_1_conv[0][0]        \n",
            "__________________________________________________________________________________________________\n",
            "conv4_block4_1_relu (Activation (None, 14, 14, 256)  0           conv4_block4_1_bn[0][0]          \n",
            "__________________________________________________________________________________________________\n",
            "conv4_block4_2_conv (Conv2D)    (None, 14, 14, 256)  590080      conv4_block4_1_relu[0][0]        \n",
            "__________________________________________________________________________________________________\n",
            "conv4_block4_2_bn (BatchNormali (None, 14, 14, 256)  1024        conv4_block4_2_conv[0][0]        \n",
            "__________________________________________________________________________________________________\n",
            "conv4_block4_2_relu (Activation (None, 14, 14, 256)  0           conv4_block4_2_bn[0][0]          \n",
            "__________________________________________________________________________________________________\n",
            "conv4_block4_3_conv (Conv2D)    (None, 14, 14, 1024) 263168      conv4_block4_2_relu[0][0]        \n",
            "__________________________________________________________________________________________________\n",
            "conv4_block4_3_bn (BatchNormali (None, 14, 14, 1024) 4096        conv4_block4_3_conv[0][0]        \n",
            "__________________________________________________________________________________________________\n",
            "conv4_block4_add (Add)          (None, 14, 14, 1024) 0           conv4_block3_out[0][0]           \n",
            "                                                                 conv4_block4_3_bn[0][0]          \n",
            "__________________________________________________________________________________________________\n",
            "conv4_block4_out (Activation)   (None, 14, 14, 1024) 0           conv4_block4_add[0][0]           \n",
            "__________________________________________________________________________________________________\n",
            "conv4_block5_1_conv (Conv2D)    (None, 14, 14, 256)  262400      conv4_block4_out[0][0]           \n",
            "__________________________________________________________________________________________________\n",
            "conv4_block5_1_bn (BatchNormali (None, 14, 14, 256)  1024        conv4_block5_1_conv[0][0]        \n",
            "__________________________________________________________________________________________________\n",
            "conv4_block5_1_relu (Activation (None, 14, 14, 256)  0           conv4_block5_1_bn[0][0]          \n",
            "__________________________________________________________________________________________________\n",
            "conv4_block5_2_conv (Conv2D)    (None, 14, 14, 256)  590080      conv4_block5_1_relu[0][0]        \n",
            "__________________________________________________________________________________________________\n",
            "conv4_block5_2_bn (BatchNormali (None, 14, 14, 256)  1024        conv4_block5_2_conv[0][0]        \n",
            "__________________________________________________________________________________________________\n",
            "conv4_block5_2_relu (Activation (None, 14, 14, 256)  0           conv4_block5_2_bn[0][0]          \n",
            "__________________________________________________________________________________________________\n",
            "conv4_block5_3_conv (Conv2D)    (None, 14, 14, 1024) 263168      conv4_block5_2_relu[0][0]        \n",
            "__________________________________________________________________________________________________\n",
            "conv4_block5_3_bn (BatchNormali (None, 14, 14, 1024) 4096        conv4_block5_3_conv[0][0]        \n",
            "__________________________________________________________________________________________________\n",
            "conv4_block5_add (Add)          (None, 14, 14, 1024) 0           conv4_block4_out[0][0]           \n",
            "                                                                 conv4_block5_3_bn[0][0]          \n",
            "__________________________________________________________________________________________________\n",
            "conv4_block5_out (Activation)   (None, 14, 14, 1024) 0           conv4_block5_add[0][0]           \n",
            "__________________________________________________________________________________________________\n",
            "conv4_block6_1_conv (Conv2D)    (None, 14, 14, 256)  262400      conv4_block5_out[0][0]           \n",
            "__________________________________________________________________________________________________\n",
            "conv4_block6_1_bn (BatchNormali (None, 14, 14, 256)  1024        conv4_block6_1_conv[0][0]        \n",
            "__________________________________________________________________________________________________\n",
            "conv4_block6_1_relu (Activation (None, 14, 14, 256)  0           conv4_block6_1_bn[0][0]          \n",
            "__________________________________________________________________________________________________\n",
            "conv4_block6_2_conv (Conv2D)    (None, 14, 14, 256)  590080      conv4_block6_1_relu[0][0]        \n",
            "__________________________________________________________________________________________________\n",
            "conv4_block6_2_bn (BatchNormali (None, 14, 14, 256)  1024        conv4_block6_2_conv[0][0]        \n",
            "__________________________________________________________________________________________________\n",
            "conv4_block6_2_relu (Activation (None, 14, 14, 256)  0           conv4_block6_2_bn[0][0]          \n",
            "__________________________________________________________________________________________________\n",
            "conv4_block6_3_conv (Conv2D)    (None, 14, 14, 1024) 263168      conv4_block6_2_relu[0][0]        \n",
            "__________________________________________________________________________________________________\n",
            "conv4_block6_3_bn (BatchNormali (None, 14, 14, 1024) 4096        conv4_block6_3_conv[0][0]        \n",
            "__________________________________________________________________________________________________\n",
            "conv4_block6_add (Add)          (None, 14, 14, 1024) 0           conv4_block5_out[0][0]           \n",
            "                                                                 conv4_block6_3_bn[0][0]          \n",
            "__________________________________________________________________________________________________\n",
            "conv4_block6_out (Activation)   (None, 14, 14, 1024) 0           conv4_block6_add[0][0]           \n",
            "__________________________________________________________________________________________________\n",
            "conv5_block1_1_conv (Conv2D)    (None, 7, 7, 512)    524800      conv4_block6_out[0][0]           \n",
            "__________________________________________________________________________________________________\n",
            "conv5_block1_1_bn (BatchNormali (None, 7, 7, 512)    2048        conv5_block1_1_conv[0][0]        \n",
            "__________________________________________________________________________________________________\n",
            "conv5_block1_1_relu (Activation (None, 7, 7, 512)    0           conv5_block1_1_bn[0][0]          \n",
            "__________________________________________________________________________________________________\n",
            "conv5_block1_2_conv (Conv2D)    (None, 7, 7, 512)    2359808     conv5_block1_1_relu[0][0]        \n",
            "__________________________________________________________________________________________________\n",
            "conv5_block1_2_bn (BatchNormali (None, 7, 7, 512)    2048        conv5_block1_2_conv[0][0]        \n",
            "__________________________________________________________________________________________________\n",
            "conv5_block1_2_relu (Activation (None, 7, 7, 512)    0           conv5_block1_2_bn[0][0]          \n",
            "__________________________________________________________________________________________________\n",
            "conv5_block1_0_conv (Conv2D)    (None, 7, 7, 2048)   2099200     conv4_block6_out[0][0]           \n",
            "__________________________________________________________________________________________________\n",
            "conv5_block1_3_conv (Conv2D)    (None, 7, 7, 2048)   1050624     conv5_block1_2_relu[0][0]        \n",
            "__________________________________________________________________________________________________\n",
            "conv5_block1_0_bn (BatchNormali (None, 7, 7, 2048)   8192        conv5_block1_0_conv[0][0]        \n",
            "__________________________________________________________________________________________________\n",
            "conv5_block1_3_bn (BatchNormali (None, 7, 7, 2048)   8192        conv5_block1_3_conv[0][0]        \n",
            "__________________________________________________________________________________________________\n",
            "conv5_block1_add (Add)          (None, 7, 7, 2048)   0           conv5_block1_0_bn[0][0]          \n",
            "                                                                 conv5_block1_3_bn[0][0]          \n",
            "__________________________________________________________________________________________________\n",
            "conv5_block1_out (Activation)   (None, 7, 7, 2048)   0           conv5_block1_add[0][0]           \n",
            "__________________________________________________________________________________________________\n",
            "conv5_block2_1_conv (Conv2D)    (None, 7, 7, 512)    1049088     conv5_block1_out[0][0]           \n",
            "__________________________________________________________________________________________________\n",
            "conv5_block2_1_bn (BatchNormali (None, 7, 7, 512)    2048        conv5_block2_1_conv[0][0]        \n",
            "__________________________________________________________________________________________________\n",
            "conv5_block2_1_relu (Activation (None, 7, 7, 512)    0           conv5_block2_1_bn[0][0]          \n",
            "__________________________________________________________________________________________________\n",
            "conv5_block2_2_conv (Conv2D)    (None, 7, 7, 512)    2359808     conv5_block2_1_relu[0][0]        \n",
            "__________________________________________________________________________________________________\n",
            "conv5_block2_2_bn (BatchNormali (None, 7, 7, 512)    2048        conv5_block2_2_conv[0][0]        \n",
            "__________________________________________________________________________________________________\n",
            "conv5_block2_2_relu (Activation (None, 7, 7, 512)    0           conv5_block2_2_bn[0][0]          \n",
            "__________________________________________________________________________________________________\n",
            "conv5_block2_3_conv (Conv2D)    (None, 7, 7, 2048)   1050624     conv5_block2_2_relu[0][0]        \n",
            "__________________________________________________________________________________________________\n",
            "conv5_block2_3_bn (BatchNormali (None, 7, 7, 2048)   8192        conv5_block2_3_conv[0][0]        \n",
            "__________________________________________________________________________________________________\n",
            "conv5_block2_add (Add)          (None, 7, 7, 2048)   0           conv5_block1_out[0][0]           \n",
            "                                                                 conv5_block2_3_bn[0][0]          \n",
            "__________________________________________________________________________________________________\n",
            "conv5_block2_out (Activation)   (None, 7, 7, 2048)   0           conv5_block2_add[0][0]           \n",
            "__________________________________________________________________________________________________\n",
            "conv5_block3_1_conv (Conv2D)    (None, 7, 7, 512)    1049088     conv5_block2_out[0][0]           \n",
            "__________________________________________________________________________________________________\n",
            "conv5_block3_1_bn (BatchNormali (None, 7, 7, 512)    2048        conv5_block3_1_conv[0][0]        \n",
            "__________________________________________________________________________________________________\n",
            "conv5_block3_1_relu (Activation (None, 7, 7, 512)    0           conv5_block3_1_bn[0][0]          \n",
            "__________________________________________________________________________________________________\n",
            "conv5_block3_2_conv (Conv2D)    (None, 7, 7, 512)    2359808     conv5_block3_1_relu[0][0]        \n",
            "__________________________________________________________________________________________________\n",
            "conv5_block3_2_bn (BatchNormali (None, 7, 7, 512)    2048        conv5_block3_2_conv[0][0]        \n",
            "__________________________________________________________________________________________________\n",
            "conv5_block3_2_relu (Activation (None, 7, 7, 512)    0           conv5_block3_2_bn[0][0]          \n",
            "__________________________________________________________________________________________________\n",
            "conv5_block3_3_conv (Conv2D)    (None, 7, 7, 2048)   1050624     conv5_block3_2_relu[0][0]        \n",
            "__________________________________________________________________________________________________\n",
            "conv5_block3_3_bn (BatchNormali (None, 7, 7, 2048)   8192        conv5_block3_3_conv[0][0]        \n",
            "__________________________________________________________________________________________________\n",
            "conv5_block3_add (Add)          (None, 7, 7, 2048)   0           conv5_block2_out[0][0]           \n",
            "                                                                 conv5_block3_3_bn[0][0]          \n",
            "__________________________________________________________________________________________________\n",
            "conv5_block3_out (Activation)   (None, 7, 7, 2048)   0           conv5_block3_add[0][0]           \n",
            "__________________________________________________________________________________________________\n",
            "avg_pool (GlobalAveragePooling2 (None, 2048)         0           conv5_block3_out[0][0]           \n",
            "__________________________________________________________________________________________________\n",
            "predictions (Dense)             (None, 1000)         2049000     avg_pool[0][0]                   \n",
            "==================================================================================================\n",
            "Total params: 25,636,712\n",
            "Trainable params: 25,583,592\n",
            "Non-trainable params: 53,120\n",
            "__________________________________________________________________________________________________\n"
          ],
          "name": "stdout"
        }
      ]
    },
    {
      "cell_type": "code",
      "metadata": {
        "colab": {
          "background_save": true,
          "base_uri": "https://localhost:8080/"
        },
        "id": "E1B_1YEuE6s4",
        "outputId": "4964d273-63ea-4d7c-cdbd-e001665d08b6"
      },
      "source": [
        "resnet.fit(X_train_, y_train_, batch_size=64, epochs=10, validation_data=(X_test_, y_test_))"
      ],
      "execution_count": null,
      "outputs": [
        {
          "output_type": "stream",
          "text": [
            "Epoch 1/10\n",
            "7/7 [==============================] - 303s 42s/step - loss: 3.6363 - accuracy: 0.4936 - val_loss: 1.7882 - val_accuracy: 0.6964\n",
            "Epoch 2/10\n",
            "7/7 [==============================] - 289s 41s/step - loss: 0.1918 - accuracy: 0.9460 - val_loss: 6.5078 - val_accuracy: 0.6548\n",
            "Epoch 3/10\n",
            "7/7 [==============================] - 301s 43s/step - loss: 0.1899 - accuracy: 0.9434 - val_loss: 4.5564 - val_accuracy: 0.5119\n",
            "Epoch 4/10\n",
            "7/7 [==============================] - 290s 41s/step - loss: 0.2829 - accuracy: 0.9460 - val_loss: 1.3787 - val_accuracy: 0.6964\n",
            "Epoch 5/10\n",
            "7/7 [==============================] - 287s 41s/step - loss: 0.2543 - accuracy: 0.9229 - val_loss: 4.2636 - val_accuracy: 0.5595\n",
            "Epoch 6/10\n",
            "7/7 [==============================] - 284s 40s/step - loss: 0.3890 - accuracy: 0.9049 - val_loss: 20.0862 - val_accuracy: 0.2917\n",
            "Epoch 7/10\n",
            "7/7 [==============================] - 286s 41s/step - loss: 0.3068 - accuracy: 0.9229 - val_loss: 63.8487 - val_accuracy: 0.3690\n",
            "Epoch 8/10\n",
            "7/7 [==============================] - 288s 40s/step - loss: 0.1783 - accuracy: 0.9589 - val_loss: 11.0613 - val_accuracy: 0.3929\n",
            "Epoch 9/10\n",
            "7/7 [==============================] - 280s 40s/step - loss: 0.0834 - accuracy: 0.9769 - val_loss: 10.6776 - val_accuracy: 0.4167\n",
            "Epoch 10/10\n",
            "7/7 [==============================] - 284s 40s/step - loss: 0.0727 - accuracy: 0.9717 - val_loss: 10.1309 - val_accuracy: 0.5952\n"
          ],
          "name": "stdout"
        },
        {
          "output_type": "execute_result",
          "data": {
            "text/plain": [
              "<tensorflow.python.keras.callbacks.History at 0x7f0d32803e10>"
            ]
          },
          "metadata": {
            "tags": []
          },
          "execution_count": 0
        }
      ]
    },
    {
      "cell_type": "code",
      "metadata": {
        "colab": {
          "base_uri": "https://localhost:8080/"
        },
        "id": "-ROF0rSo7pPx",
        "outputId": "d091aa65-679b-4058-a56c-492aad544b78"
      },
      "source": [
        "resnet.fit(X_train_, y_train_, batch_size=64, epochs=10, validation_data=(X_test_, y_test_))"
      ],
      "execution_count": null,
      "outputs": [
        {
          "output_type": "stream",
          "text": [
            "Epoch 1/10\n",
            "7/7 [==============================] - 293s 40s/step - loss: 3.7087 - accuracy: 0.4833 - val_loss: 6.1531 - val_accuracy: 0.4940\n",
            "Epoch 2/10\n",
            "7/7 [==============================] - 281s 40s/step - loss: 0.1505 - accuracy: 0.9434 - val_loss: 7.3398 - val_accuracy: 0.5119\n",
            "Epoch 3/10\n",
            "7/7 [==============================] - 282s 40s/step - loss: 0.0793 - accuracy: 0.9692 - val_loss: 48.8205 - val_accuracy: 0.1964\n",
            "Epoch 4/10\n",
            "7/7 [==============================] - 288s 41s/step - loss: 0.1135 - accuracy: 0.9820 - val_loss: 73.0590 - val_accuracy: 0.1964\n",
            "Epoch 5/10\n",
            "7/7 [==============================] - 281s 40s/step - loss: 0.1594 - accuracy: 0.9743 - val_loss: 71.5642 - val_accuracy: 0.1964\n",
            "Epoch 6/10\n",
            "7/7 [==============================] - 281s 40s/step - loss: 0.1087 - accuracy: 0.9743 - val_loss: 25.4056 - val_accuracy: 0.2083\n",
            "Epoch 7/10\n",
            "7/7 [==============================] - 280s 40s/step - loss: 0.3004 - accuracy: 0.8997 - val_loss: 48.1919 - val_accuracy: 0.2440\n",
            "Epoch 8/10\n",
            "7/7 [==============================] - 282s 40s/step - loss: 0.1913 - accuracy: 0.9563 - val_loss: 47.6488 - val_accuracy: 0.3274\n",
            "Epoch 9/10\n",
            "7/7 [==============================] - 289s 41s/step - loss: 0.4211 - accuracy: 0.9023 - val_loss: 81.0606 - val_accuracy: 0.3095\n",
            "Epoch 10/10\n",
            "7/7 [==============================] - 287s 40s/step - loss: 0.2289 - accuracy: 0.9434 - val_loss: 23.2985 - val_accuracy: 0.3095\n"
          ],
          "name": "stdout"
        },
        {
          "output_type": "execute_result",
          "data": {
            "text/plain": [
              "<tensorflow.python.keras.callbacks.History at 0x7f51036ffed0>"
            ]
          },
          "metadata": {
            "tags": []
          },
          "execution_count": 42
        }
      ]
    }
  ]
}